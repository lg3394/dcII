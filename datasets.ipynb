{
 "cells": [
  {
   "cell_type": "code",
   "execution_count": 1,
   "id": "a081a793-7c75-41b0-8e7a-6f03c78595b3",
   "metadata": {},
   "outputs": [],
   "source": [
    "import pandas as pd\n",
    "import matplotlib.pyplot as plt\n",
    "import numpy as np"
   ]
  },
  {
   "cell_type": "code",
   "execution_count": 2,
   "id": "bb9fb203-6bec-4d3e-bb61-66a5e1bf9f0c",
   "metadata": {},
   "outputs": [],
   "source": [
    "# Load datasets\n",
    "task_energy_df = pd.read_excel('/Users/luciadelatorre/Desktop/COLUMBIA/GitHub/DCII/data/energy_consumption_per_task.xlsx', sheet_name='averages')\n",
    "least_efficient_models_df = pd.read_excel('/Users/luciadelatorre/Desktop/COLUMBIA/GitHub/DCII/data/least_efficient_models.xlsx')\n",
    "most_efficient_models_df = pd.read_excel('/Users/luciadelatorre/Desktop/COLUMBIA/GitHub/DCII/data/most_efficient_models.xlsx')\n",
    "environmental_impacts_df = pd.read_excel('/Users/luciadelatorre/Desktop/COLUMBIA/GitHub/DCII/data/environmental_impacts_per_region.xlsx')"
   ]
  },
  {
   "cell_type": "code",
   "execution_count": 3,
   "id": "cbb2be8a-a3a3-40d2-ac2a-23d9792c7e8c",
   "metadata": {},
   "outputs": [],
   "source": [
    "task_energy_df = pd.DataFrame({\n",
    "    'Task': [\n",
    "        'Image Generation', 'Text Generation', 'Question Answering',\n",
    "        'Automatic Speech Recognition', 'Summarization', 'Text Classification',\n",
    "        'Object Detection', 'Sentence Similarity', 'Image Classification'\n",
    "    ],\n",
    "    'Average_Wh': [\n",
    "        0.5190, 0.2877, 0.0225, 0.0221, 0.0069, 0.0044, 0.0034, 0.0013, 0.0010\n",
    "    ]\n",
    "})\n",
    "\n",
    "# Save to CSV for use in your D3 bar chart\n",
    "task_energy_df.to_csv('energy_consumption_per_task.csv', index=False)"
   ]
  },
  {
   "cell_type": "code",
   "execution_count": 4,
   "id": "1d25641e-fc3a-4bfc-95db-08301697aed4",
   "metadata": {},
   "outputs": [],
   "source": [
    "data = {\n",
    "    'Area or Country': ['USA', 'China', 'Worldwide', 'Europe (EEA)', 'France'],\n",
    "    'ADPe (kg Sb eq / kWh)': [9.855e-8, 8.515e-8, 7.378e-8, 6.423e-8, 4.858e-8],\n",
    "    'PE (MJ / kWh)': [11.4, 14.1, 9.99, 12.9, 11.3]\n",
    "}\n",
    "\n",
    "environmental_impacts_df = pd.DataFrame(data)\n",
    "\n",
    "export_df = environmental_impacts_df.rename(columns={\n",
    "    'Area or Country': 'Area_or_Country',\n",
    "    'ADPe (kg Sb eq / kWh)': 'ADPe_kg_Sb_eq_per_kWh',\n",
    "    'PE (MJ / kWh)': 'PE_MJ_per_kWh'\n",
    "})[['Area_or_Country', 'ADPe_kg_Sb_eq_per_kWh', 'PE_MJ_per_kWh']]\n",
    "\n",
    "# Export to CSV in your working directory\n",
    "export_df.to_csv('environmental_impacts_with_both_metrics.csv', index=False)"
   ]
  }
 ],
 "metadata": {
  "kernelspec": {
   "display_name": "Python 3 (ipykernel)",
   "language": "python",
   "name": "python3"
  },
  "language_info": {
   "codemirror_mode": {
    "name": "ipython",
    "version": 3
   },
   "file_extension": ".py",
   "mimetype": "text/x-python",
   "name": "python",
   "nbconvert_exporter": "python",
   "pygments_lexer": "ipython3",
   "version": "3.11.8"
  }
 },
 "nbformat": 4,
 "nbformat_minor": 5
}
